{
 "cells": [
  {
   "cell_type": "code",
   "execution_count": 1,
   "metadata": {},
   "outputs": [],
   "source": [
    "import numpy as np\n",
    "import pandas as pd\n",
    "import matplotlib.pyplot as plt\n",
    "import seaborn as sns\n",
    "from nltk.corpus import reuters\n",
    "from collections import defaultdict, Counter\n",
    "import re\n",
    "from nltk import ngrams\n",
    "from tqdm import tqdm"
   ]
  },
  {
   "cell_type": "markdown",
   "metadata": {},
   "source": [
    "## Preprocessing"
   ]
  },
  {
   "cell_type": "code",
   "execution_count": 2,
   "metadata": {},
   "outputs": [
    {
     "data": {
      "text/plain": [
       "[\"ASIAN EXPORTERS FEAR DAMAGE FROM U . S .- JAPAN RIFT Mounting trade friction between the U . S . And Japan has raised fears among many of Asia ' s exporting nations that the row could inflict far - reaching economic damage , businessmen and officials said .\",\n",
       " 'They told Reuter correspondents in Asian capitals a U . S . Move against Japan might boost protectionist sentiment in the U . S . And lead to curbs on American imports of their products .',\n",
       " \"But some exporters said that while the conflict would hurt them in the long - run , in the short - term Tokyo ' s loss might be their gain .\",\n",
       " \"The U . S . Has said it will impose 300 mln dlrs of tariffs on imports of Japanese electronics goods on April 17 , in retaliation for Japan ' s alleged failure to stick to a pact not to sell semiconductors on world markets at below cost .\",\n",
       " 'Unofficial Japanese estimates put the impact of the tariffs at 10 billion dlrs and spokesmen for major electronics firms said they would virtually halt exports of products hit by the new taxes .']"
      ]
     },
     "execution_count": 2,
     "metadata": {},
     "output_type": "execute_result"
    }
   ],
   "source": [
    "raw_text = reuters.sents()\n",
    "raw_text = [\" \".join(i) for i in raw_text]\n",
    "raw_text[:5]"
   ]
  },
  {
   "cell_type": "code",
   "execution_count": 3,
   "metadata": {},
   "outputs": [],
   "source": [
    "from nltk.corpus import stopwords\n",
    "stop_words = stopwords.words('english')"
   ]
  },
  {
   "cell_type": "code",
   "execution_count": 4,
   "metadata": {},
   "outputs": [
    {
     "name": "stderr",
     "output_type": "stream",
     "text": [
      "100%|██████████| 54716/54716 [00:03<00:00, 15636.45it/s]\n"
     ]
    },
    {
     "data": {
      "text/plain": [
       "['asian exporters fear damage japan rift mounting trade friction japan raised fears among many asia exporting nations row could inflict far reaching economic damage businessmen officials said',\n",
       " 'told reuter correspondents asian capitals move japan might boost protectionist sentiment lead curbs american imports products',\n",
       " 'exporters said conflict would hurt long run short term tokyo loss might gain',\n",
       " 'said impose mln dlrs tariffs imports japanese electronics goods april retaliation japan alleged failure stick pact sell semiconductors world markets cost',\n",
       " 'unofficial japanese estimates put impact tariffs billion dlrs spokesmen major electronics firms said would virtually halt exports products hit new taxes']"
      ]
     },
     "execution_count": 4,
     "metadata": {},
     "output_type": "execute_result"
    }
   ],
   "source": [
    "import string\n",
    "text = []\n",
    "for sentence in tqdm(raw_text):\n",
    "    sentence = re.sub(\"[^a-z]\", \" \", sentence.lower()) # punctuation and digits\n",
    "    sentence = \" \".join([word for word in sentence.split() if word not in stop_words and len(word) > 2]) # stop words + stemming\n",
    "    if sentence != \"\":\n",
    "        text.append(sentence)\n",
    "text[:5]"
   ]
  },
  {
   "cell_type": "code",
   "execution_count": 5,
   "metadata": {},
   "outputs": [
    {
     "data": {
      "text/plain": [
       "28723"
      ]
     },
     "execution_count": 5,
     "metadata": {},
     "output_type": "execute_result"
    }
   ],
   "source": [
    "# create vocab\n",
    "words = [j for i in text for j in i.split()]\n",
    "vocab = set(words)\n",
    "len(vocab)"
   ]
  },
  {
   "cell_type": "code",
   "execution_count": 6,
   "metadata": {},
   "outputs": [
    {
     "data": {
      "image/png": "[encoded data removed]",
      "text/plain": [
       "<Figure size 864x432 with 1 Axes>"
      ]
     },
     "metadata": {
      "needs_background": "light"
     },
     "output_type": "display_data"
    }
   ],
   "source": [
    "plt.figure(figsize=(12, 6))\n",
    "pd.Series(words).value_counts().head(15).plot(kind='bar')\n",
    "plt.title('The most popular words')\n",
    "plt.show()"
   ]
  },
  {
   "cell_type": "markdown",
   "metadata": {},
   "source": [
    "## Build Model"
   ]
  },
  {
   "cell_type": "code",
   "execution_count": 7,
   "metadata": {},
   "outputs": [
    {
     "data": {
      "text/plain": [
       "(40803, 13602)"
      ]
     },
     "execution_count": 7,
     "metadata": {},
     "output_type": "execute_result"
    }
   ],
   "source": [
    "from sklearn.model_selection import train_test_split\n",
    "train_text, test_text = train_test_split(text)\n",
    "len(train_text), len(test_text)"
   ]
  },
  {
   "cell_type": "code",
   "execution_count": 8,
   "metadata": {},
   "outputs": [
    {
     "name": "stderr",
     "output_type": "stream",
     "text": [
      "100%|██████████| 40803/40803 [01:56<00:00, 349.50it/s]\n"
     ]
    }
   ],
   "source": [
    "# handle unknown words\n",
    "words_train = words = [j for i in train_text for j in i.split()]\n",
    "vocab_train = set(words_train)\n",
    "unk_words = [i[0] for i in Counter(words_train).items() if i[1] == 1]\n",
    "for i in tqdm(range(len(train_text))):\n",
    "    sentence = train_text[i]\n",
    "    sentence = [j if j not in unk_words else '<UNK>' for j in sentence.split()]\n",
    "    train_text[i] = \" \".join(sentence)"
   ]
  },
  {
   "cell_type": "code",
   "execution_count": 9,
   "metadata": {},
   "outputs": [],
   "source": [
    "def count_n_grams(n, train_text):\n",
    "    # init model\n",
    "    model = defaultdict(lambda: defaultdict(lambda: 0))\n",
    "    # create counts\n",
    "    for sentence in train_text:\n",
    "        for n_gram in ngrams(sentence.split(), n=n, pad_right=True, pad_left=True,\n",
    "                             right_pad_symbol='</s>', left_pad_symbol='<s>'):\n",
    "            model[(n_gram[:-1])][n_gram[-1]] += 1\n",
    "    \n",
    "    return model"
   ]
  },
  {
   "cell_type": "code",
   "execution_count": 10,
   "metadata": {},
   "outputs": [],
   "source": [
    "model = count_n_grams(4, train_text)\n",
    "\n",
    "# calculate probabilities\n",
    "for n_gram in model.keys():\n",
    "    P_n_gram = sum(model[n_gram].values())\n",
    "    for word in model[n_gram]:\n",
    "        model[n_gram][word] /= P_n_gram\n",
    "    model[n_gram] = {k: v for k, v in sorted(model[n_gram].items(), key=lambda item: item[1], reverse=True)}"
   ]
  },
  {
   "cell_type": "code",
   "execution_count": 11,
   "metadata": {},
   "outputs": [
    {
     "name": "stdout",
     "output_type": "stream",
     "text": [
      "said company would continue active takeover policy would wary paying current price earnings ratio times net profit </s>\n"
     ]
    }
   ],
   "source": [
    "# generate the most popular sentence\n",
    "key1 = '<s>'\n",
    "key2 = '<s>'\n",
    "key3 = '<s>'\n",
    "sentence = ['<s>', '<s>', '<s>']\n",
    "probs = []\n",
    "while model[key1, key2, key3] != {}:\n",
    "    key4 = next(iter(model[key1, key2, key3]))\n",
    "    sentence.append(key4)\n",
    "    probs.append(next(iter(model[key1, key2, key3].values())))\n",
    "    if key4 == '</s>':\n",
    "        break\n",
    "    key1 = key2\n",
    "    key2 = key3\n",
    "    key3 = key4\n",
    "    \n",
    "print(\" \".join(sentence[3:]))"
   ]
  },
  {
   "cell_type": "code",
   "execution_count": 12,
   "metadata": {},
   "outputs": [
    {
     "name": "stdout",
     "output_type": "stream",
     "text": [
      "The most popular sentence perplexity: 1.94\n"
     ]
    }
   ],
   "source": [
    "def perplexity(probs):\n",
    "    res = 1\n",
    "    for i in probs:\n",
    "        res *= 1/i ** (1/len(probs))\n",
    "    return res\n",
    "\n",
    "print(f'The most popular sentence perplexity: {round(perplexity(probs), 2)}')"
   ]
  },
  {
   "cell_type": "markdown",
   "metadata": {},
   "source": [
    "### Calculate perplexity"
   ]
  },
  {
   "cell_type": "code",
   "execution_count": 13,
   "metadata": {},
   "outputs": [],
   "source": [
    "def get_probs(text, n, vocab, model, smoothing=None, k=None):\n",
    "    assert smoothing == k or (smoothing != None and k != None)\n",
    "    probs = []\n",
    "    for sentence in text:\n",
    "        for n_gram in ngrams(sentence.split(), n=n, pad_right=True, pad_left=True,\n",
    "                             right_pad_symbol='</s>', left_pad_symbol='<s>'):\n",
    "            if smoothing == None:\n",
    "                n_gram = tuple(['<UNK>' if i not in vocab else i for i in n_gram])\n",
    "            try:\n",
    "                current_prob = model[n_gram[:-1]][n_gram[-1]]\n",
    "            except:\n",
    "                if smoothing == 'add-k':\n",
    "                    current_prob = 1 / len(vocab)\n",
    "                else:\n",
    "                    continue\n",
    "            if current_prob != 0:\n",
    "                probs.append(current_prob)\n",
    "    return probs\n",
    "    \n",
    "\n",
    "def calculate_perplexity(n, train_text, test_text, smoothing=None, k=None):\n",
    "    assert smoothing == k or (smoothing != None and k != None)\n",
    "    vocab_train = set([j for i in train_text for j in i.split()])\n",
    "    # get the model\n",
    "    model = count_n_grams(n, train_text)\n",
    "    # calculate probabilities\n",
    "    if smoothing == 'add-k':\n",
    "        for n_gram in model.keys():\n",
    "            P_n_gram = sum(model[n_gram].values()) + k*len(vocab_train)\n",
    "            for word in model[n_gram]:\n",
    "                model[n_gram][word] = (model[n_gram][word] + k) / P_n_gram\n",
    "            model[n_gram] = {k: v for k, v in sorted(model[n_gram].items(), key=lambda item: item[1], reverse=True)}\n",
    "    else:\n",
    "        for n_gram in model.keys():\n",
    "            P_n_gram = sum(model[n_gram].values())\n",
    "            for word in model[n_gram]:\n",
    "                model[n_gram][word] /= P_n_gram\n",
    "            model[n_gram] = {k: v for k, v in sorted(model[n_gram].items(), key=lambda item: item[1], reverse=True)}\n",
    "    # train\n",
    "    probs_train = get_probs(train_text, n, vocab, model, smoothing, k)\n",
    "    pp_train = perplexity(probs_train)\n",
    "    # test\n",
    "    probs_test = get_probs(test_text, n, vocab, model, smoothing, k)\n",
    "    pp_test = perplexity(probs_test)\n",
    "    \n",
    "    return round(pp_train, 2), round(pp_test, 2)"
   ]
  },
  {
   "cell_type": "code",
   "execution_count": 14,
   "metadata": {},
   "outputs": [
    {
     "name": "stdout",
     "output_type": "stream",
     "text": [
      "N-Grams: 2, Perplexity train: 61.91, perplexity test: 56.58\n",
      "N-Grams: 3, Perplexity train: 3.2, perplexity test: 5.45\n",
      "N-Grams: 4, Perplexity train: 1.37, perplexity test: 2.03\n",
      "N-Grams: 5, Perplexity train: 1.14, perplexity test: 1.52\n"
     ]
    }
   ],
   "source": [
    "for i in range(2, 6):\n",
    "    pp_train, pp_test = calculate_perplexity(i, train_text, test_text)\n",
    "    print(f'N-Grams: {i}, Perplexity train: {pp_train}, perplexity test: {pp_test}')"
   ]
  },
  {
   "cell_type": "markdown",
   "metadata": {},
   "source": [
    "### Smoothing"
   ]
  },
  {
   "cell_type": "code",
   "execution_count": 15,
   "metadata": {},
   "outputs": [],
   "source": [
    "# k-smoothing\n",
    "def grid_search(k_grid, n, train_text, test_text):\n",
    "    best_pp_test = np.inf\n",
    "    best_k = k_grid[0]\n",
    "    for k in k_grid:\n",
    "        _, pp_test = calculate_perplexity(n, train_text, test_text, smoothing='add-k', k=k)\n",
    "        print(f'Current pp_test: {pp_test}')\n",
    "        if pp_test < best_pp_test:\n",
    "            best_pp_test = pp_test\n",
    "            best_k = k\n",
    "    return best_k, best_pp_test"
   ]
  },
  {
   "cell_type": "code",
   "execution_count": 16,
   "metadata": {},
   "outputs": [
    {
     "name": "stdout",
     "output_type": "stream",
     "text": [
      "Current pp_test: 1072.34\n",
      "Current pp_test: 1702.35\n",
      "Current pp_test: 2147.97\n",
      "Current pp_test: 2509.1\n",
      "Current pp_test: 2817.85\n",
      "Current pp_test: 2957.77\n",
      "Best k for n=2 is 0.1\n"
     ]
    }
   ],
   "source": [
    "best_k, best_pp_test = grid_search([0.1, 0.3, 0.5, 0.7, 0.9, 1], 2, train_text, test_text)\n",
    "print(f'Best k for n=2 is {best_k}')"
   ]
  },
  {
   "cell_type": "code",
   "execution_count": null,
   "metadata": {},
   "outputs": [],
   "source": []
  },
  {
   "cell_type": "code",
   "execution_count": null,
   "metadata": {},
   "outputs": [],
   "source": []
  },
  {
   "cell_type": "code",
   "execution_count": null,
   "metadata": {},
   "outputs": [],
   "source": []
  }
 ],
 "metadata": {
  "kernelspec": {
   "display_name": "Python 3",
   "language": "python",
   "name": "python3"
  },
  "language_info": {
   "codemirror_mode": {
    "name": "ipython",
    "version": 3
   },
   "file_extension": ".py",
   "mimetype": "text/x-python",
   "name": "python",
   "nbconvert_exporter": "python",
   "pygments_lexer": "ipython3",
   "version": "3.8.5"
  }
 },
 "nbformat": 4,
 "nbformat_minor": 4
}
